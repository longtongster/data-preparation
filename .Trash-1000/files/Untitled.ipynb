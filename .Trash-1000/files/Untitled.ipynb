{
 "cells": [
  {
   "cell_type": "code",
   "execution_count": 1,
   "id": "834669ad-3ea0-4289-ae39-80fcee9e2af7",
   "metadata": {},
   "outputs": [],
   "source": [
    "from abc import ABC, abstractmethod"
   ]
  },
  {
   "cell_type": "code",
   "execution_count": 2,
   "id": "3e1dbb90-6296-4855-9875-0a212d6570ff",
   "metadata": {},
   "outputs": [],
   "source": [
    "class AbstractClassExample(ABC):\n",
    "\n",
    "    def __init__(self, value):\n",
    "        self.value = value\n",
    "        super().__init__()\n",
    "\n",
    "    @abstractmethod\n",
    "    def do_something(self):\n",
    "        pass"
   ]
  },
  {
   "cell_type": "code",
   "execution_count": 3,
   "id": "4810a11f-5276-4e63-a16a-4a66372761a2",
   "metadata": {},
   "outputs": [],
   "source": [
    "class DoAdd42(AbstractClassExample):\n",
    "    def do_something(self):\n",
    "        return self.value + 42"
   ]
  },
  {
   "cell_type": "code",
   "execution_count": 5,
   "id": "590f3aaa-b974-40f9-bbc7-15deb19fc669",
   "metadata": {},
   "outputs": [
    {
     "data": {
      "text/plain": [
       "52"
      ]
     },
     "execution_count": 5,
     "metadata": {},
     "output_type": "execute_result"
    }
   ],
   "source": [
    "x = DoAdd42(10)\n",
    "x.do_something()"
   ]
  },
  {
   "cell_type": "code",
   "execution_count": 16,
   "id": "6b2c143b-f0a5-4312-b6db-91613f3036e0",
   "metadata": {},
   "outputs": [],
   "source": [
    "from abc import ABC, abstractmethod\n",
    " \n",
    "class AbstractClassExample(ABC):\n",
    "    \n",
    "    @abstractmethod\n",
    "    def do_something(self):\n",
    "        print(\"Some implementation!\")"
   ]
  },
  {
   "cell_type": "code",
   "execution_count": 17,
   "id": "0d79f3cc-2b61-4ec1-9e4d-9100d53f8bd0",
   "metadata": {},
   "outputs": [],
   "source": [
    "class AnotherSubclass(AbstractClassExample):\n",
    "\n",
    "    def do_something(self):\n",
    "        super().do_something()\n",
    "        print(\"The enrichment from AnotherSubclass\")\n",
    "   "
   ]
  },
  {
   "cell_type": "code",
   "execution_count": 18,
   "id": "08b815df-0db9-44fb-8d9f-c479a02ec692",
   "metadata": {},
   "outputs": [
    {
     "name": "stdout",
     "output_type": "stream",
     "text": [
      "Some implementation!\n",
      "The enrichment from AnotherSubclass\n"
     ]
    }
   ],
   "source": [
    "AnotherSubclass().do_something()"
   ]
  },
  {
   "cell_type": "code",
   "execution_count": null,
   "id": "589b4210-3626-47d9-ab95-4c224cc3d14f",
   "metadata": {},
   "outputs": [],
   "source": []
  },
  {
   "cell_type": "code",
   "execution_count": 27,
   "id": "8802e885-f820-4125-8b9b-e37a44cf74d7",
   "metadata": {},
   "outputs": [
    {
     "name": "stdout",
     "output_type": "stream",
     "text": [
      "Person(name='Joe', age=30, height=1.85, email='joe@dataquest.io')\n"
     ]
    }
   ],
   "source": [
    "from dataclasses import dataclass\n",
    "\n",
    "@dataclass\n",
    "class Person():\n",
    "    name: str = 'Joe'\n",
    "    age: int = 30\n",
    "    height: float = 1.85\n",
    "    email: str = 'joe@dataquest.io'\n",
    "\n",
    "print(Person())"
   ]
  },
  {
   "cell_type": "code",
   "execution_count": 25,
   "id": "805e7129-83ec-4fb0-a8a8-7ad834a9ef1d",
   "metadata": {},
   "outputs": [],
   "source": [
    "joe = Person(\"gay\", 12, 12.3, \"gay\")"
   ]
  },
  {
   "cell_type": "code",
   "execution_count": 26,
   "id": "2a3b7870-f3d5-426a-bad3-a51d530d9a93",
   "metadata": {},
   "outputs": [
    {
     "data": {
      "text/plain": [
       "'gay'"
      ]
     },
     "execution_count": 26,
     "metadata": {},
     "output_type": "execute_result"
    }
   ],
   "source": [
    "joe.name"
   ]
  },
  {
   "cell_type": "code",
   "execution_count": 28,
   "id": "0f9dfaa2-47b8-4e2d-bd40-a7c8e4d99421",
   "metadata": {},
   "outputs": [
    {
     "name": "stdout",
     "output_type": "stream",
     "text": [
      "Person(name='Joe', age=25, height=1.85, email='joe@dataquest.io', house_coordinates=(40.748441, -73.985664))\n"
     ]
    }
   ],
   "source": [
    "from typing import Tuple\n",
    "\n",
    "@dataclass\n",
    "class Person():\n",
    "    name: str\n",
    "    age: int\n",
    "    height: float\n",
    "    email: str\n",
    "    house_coordinates: Tuple\n",
    "\n",
    "print(Person('Joe', 25, 1.85, 'joe@dataquest.io', (40.748441, -73.985664)))"
   ]
  },
  {
   "cell_type": "code",
   "execution_count": null,
   "id": "efd947ae-80ea-46ea-a22c-10c194887247",
   "metadata": {},
   "outputs": [],
   "source": []
  }
 ],
 "metadata": {
  "kernelspec": {
   "display_name": "Python 3 (ipykernel)",
   "language": "python",
   "name": "python3"
  },
  "language_info": {
   "codemirror_mode": {
    "name": "ipython",
    "version": 3
   },
   "file_extension": ".py",
   "mimetype": "text/x-python",
   "name": "python",
   "nbconvert_exporter": "python",
   "pygments_lexer": "ipython3",
   "version": "3.10.15"
  }
 },
 "nbformat": 4,
 "nbformat_minor": 5
}
